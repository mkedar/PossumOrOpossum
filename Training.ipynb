{
 "cells": [
  {
   "cell_type": "code",
   "execution_count": 8,
   "id": "d337dae5",
   "metadata": {},
   "outputs": [],
   "source": [
    "import pickle"
   ]
  },
  {
   "cell_type": "code",
   "execution_count": 9,
   "id": "b5bf6338",
   "metadata": {},
   "outputs": [],
   "source": [
    "x = pickle.load(open('x.pkl','rb'))\n",
    "y = pickle.load(open('y.pkl','rb'))"
   ]
  },
  {
   "cell_type": "code",
   "execution_count": 14,
   "id": "36a19bad",
   "metadata": {},
   "outputs": [],
   "source": [
    "x = x/255 # scaling values 0-1\n"
   ]
  },
  {
   "cell_type": "code",
   "execution_count": 16,
   "id": "6a90b926",
   "metadata": {},
   "outputs": [
    {
     "data": {
      "text/plain": [
       "(173, 80, 80, 3)"
      ]
     },
     "execution_count": 16,
     "metadata": {},
     "output_type": "execute_result"
    }
   ],
   "source": [
    "x.shape"
   ]
  },
  {
   "cell_type": "code",
   "execution_count": 17,
   "id": "d628886e",
   "metadata": {},
   "outputs": [],
   "source": [
    "from keras.models import Sequential\n",
    "from keras.layers import Conv2D, MaxPooling2D, Flatten, Dense"
   ]
  },
  {
   "cell_type": "code",
   "execution_count": 24,
   "id": "cf142dfc",
   "metadata": {},
   "outputs": [],
   "source": [
    "model = Sequential()\n",
    "# layers \n",
    "model.add(Conv2D(64,(3,3), activation = 'relu'))\n",
    "model.add(MaxPooling2D((2,2)))\n",
    "\n",
    "model.add(Conv2D(64,(3,3), activation = 'relu'))\n",
    "model.add(MaxPooling2D((2,2)))\n",
    "# flatten layers\n",
    "model.add(Flatten())\n",
    "model.add(Dense(128, input_shape = x.shape[1:], activation = 'relu')) # 128 nuerons in hidden layer\n",
    "\n",
    "model.add(Dense(2, activation = 'softmax'))\n"
   ]
  },
  {
   "cell_type": "code",
   "execution_count": 25,
   "id": "9a454c30",
   "metadata": {},
   "outputs": [],
   "source": [
    "model.compile(optimizer = 'adam', loss = 'sparse_categorical_crossentropy', metrics =['accuracy']) "
   ]
  },
  {
   "cell_type": "code",
   "execution_count": 26,
   "id": "b79aef3e",
   "metadata": {},
   "outputs": [
    {
     "name": "stdout",
     "output_type": "stream",
     "text": [
      "Epoch 1/5\n",
      "5/5 [==============================] - 2s 182ms/step - loss: 1.4486 - accuracy: 0.5290 - val_loss: 1.1210 - val_accuracy: 0.2778\n",
      "Epoch 2/5\n",
      "5/5 [==============================] - 1s 129ms/step - loss: 0.7781 - accuracy: 0.4968 - val_loss: 0.6821 - val_accuracy: 0.6111\n",
      "Epoch 3/5\n",
      "5/5 [==============================] - 1s 133ms/step - loss: 0.6748 - accuracy: 0.5355 - val_loss: 0.6082 - val_accuracy: 0.9444\n",
      "Epoch 4/5\n",
      "5/5 [==============================] - 1s 130ms/step - loss: 0.6207 - accuracy: 0.6968 - val_loss: 0.3737 - val_accuracy: 0.7778\n",
      "Epoch 5/5\n",
      "5/5 [==============================] - 1s 125ms/step - loss: 0.5583 - accuracy: 0.7032 - val_loss: 0.3882 - val_accuracy: 0.9444\n"
     ]
    },
    {
     "data": {
      "text/plain": [
       "<keras.callbacks.History at 0x1c10d8eedc0>"
      ]
     },
     "execution_count": 26,
     "metadata": {},
     "output_type": "execute_result"
    }
   ],
   "source": [
    "model.fit(x, y, epochs=5, validation_split=0.1)"
   ]
  },
  {
   "cell_type": "code",
   "execution_count": null,
   "id": "942dd119",
   "metadata": {},
   "outputs": [],
   "source": []
  }
 ],
 "metadata": {
  "kernelspec": {
   "display_name": "Python 3 (ipykernel)",
   "language": "python",
   "name": "python3"
  },
  "language_info": {
   "codemirror_mode": {
    "name": "ipython",
    "version": 3
   },
   "file_extension": ".py",
   "mimetype": "text/x-python",
   "name": "python",
   "nbconvert_exporter": "python",
   "pygments_lexer": "ipython3",
   "version": "3.9.5"
  }
 },
 "nbformat": 4,
 "nbformat_minor": 5
}
