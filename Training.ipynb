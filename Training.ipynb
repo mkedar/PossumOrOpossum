{
 "cells": [
  {
   "cell_type": "code",
   "execution_count": 1,
   "id": "d337dae5",
   "metadata": {},
   "outputs": [],
   "source": [
    "import pickle"
   ]
  },
  {
   "cell_type": "code",
   "execution_count": 2,
   "id": "b5bf6338",
   "metadata": {},
   "outputs": [],
   "source": [
    "x = pickle.load(open('x.pkl','rb'))\n",
    "y = pickle.load(open('y.pkl','rb'))"
   ]
  },
  {
   "cell_type": "code",
   "execution_count": 3,
   "id": "36a19bad",
   "metadata": {},
   "outputs": [],
   "source": [
    "x = x/255 # scaling values 0-1\n"
   ]
  },
  {
   "cell_type": "code",
   "execution_count": 4,
   "id": "6a90b926",
   "metadata": {},
   "outputs": [
    {
     "data": {
      "text/plain": [
       "(351, 140, 140, 3)"
      ]
     },
     "execution_count": 4,
     "metadata": {},
     "output_type": "execute_result"
    }
   ],
   "source": [
    "x.shape"
   ]
  },
  {
   "cell_type": "code",
   "execution_count": 5,
   "id": "d628886e",
   "metadata": {},
   "outputs": [],
   "source": [
    "from keras.models import Sequential\n",
    "from keras.layers import Conv2D, MaxPooling2D, Flatten, Dense"
   ]
  },
  {
   "cell_type": "code",
   "execution_count": 6,
   "id": "cf142dfc",
   "metadata": {},
   "outputs": [],
   "source": [
    "model = Sequential()\n",
    "# layers \n",
    "model.add(Conv2D(64,(3,3), activation = 'relu'))\n",
    "model.add(MaxPooling2D((2,2)))\n",
    "\n",
    "model.add(Conv2D(64,(3,3), activation = 'relu'))\n",
    "model.add(MaxPooling2D((2,2)))\n",
    "\n",
    "# flatten layers\n",
    "model.add(Flatten())\n",
    "model.add(Dense(128, input_shape = x.shape[1:], activation = 'relu')) # 128 nuerons in hidden layer\n",
    "\n",
    "model.add(Dense(2, activation = 'softmax'))\n"
   ]
  },
  {
   "cell_type": "code",
   "execution_count": 7,
   "id": "9a454c30",
   "metadata": {},
   "outputs": [],
   "source": [
    "model.compile(optimizer = 'adam', loss = 'sparse_categorical_crossentropy', metrics =['accuracy']) "
   ]
  },
  {
   "cell_type": "code",
   "execution_count": 8,
   "id": "b79aef3e",
   "metadata": {},
   "outputs": [
    {
     "name": "stdout",
     "output_type": "stream",
     "text": [
      "Epoch 1/6\n",
      "10/10 [==============================] - 5s 448ms/step - loss: 1.9117 - accuracy: 0.5397 - val_loss: 0.6453 - val_accuracy: 0.5833\n",
      "Epoch 2/6\n",
      "10/10 [==============================] - 4s 415ms/step - loss: 0.6385 - accuracy: 0.6635 - val_loss: 0.5724 - val_accuracy: 0.6944\n",
      "Epoch 3/6\n",
      "10/10 [==============================] - 4s 405ms/step - loss: 0.5205 - accuracy: 0.7556 - val_loss: 0.5940 - val_accuracy: 0.6667\n",
      "Epoch 4/6\n",
      "10/10 [==============================] - 4s 414ms/step - loss: 0.4455 - accuracy: 0.8127 - val_loss: 0.6614 - val_accuracy: 0.6667\n",
      "Epoch 5/6\n",
      "10/10 [==============================] - 4s 438ms/step - loss: 0.3861 - accuracy: 0.8254 - val_loss: 0.5726 - val_accuracy: 0.6944\n",
      "Epoch 6/6\n",
      "10/10 [==============================] - 4s 443ms/step - loss: 0.3063 - accuracy: 0.8667 - val_loss: 0.6454 - val_accuracy: 0.6944\n"
     ]
    },
    {
     "data": {
      "text/plain": [
       "<keras.callbacks.History at 0x196b8d772b0>"
      ]
     },
     "execution_count": 8,
     "metadata": {},
     "output_type": "execute_result"
    }
   ],
   "source": [
    "model.fit(x, y, epochs=6, validation_split=0.1)"
   ]
  },
  {
   "cell_type": "code",
   "execution_count": null,
   "id": "942dd119",
   "metadata": {},
   "outputs": [],
   "source": []
  },
  {
   "cell_type": "code",
   "execution_count": null,
   "id": "da0894d1",
   "metadata": {},
   "outputs": [],
   "source": []
  }
 ],
 "metadata": {
  "kernelspec": {
   "display_name": "Python 3 (ipykernel)",
   "language": "python",
   "name": "python3"
  },
  "language_info": {
   "codemirror_mode": {
    "name": "ipython",
    "version": 3
   },
   "file_extension": ".py",
   "mimetype": "text/x-python",
   "name": "python",
   "nbconvert_exporter": "python",
   "pygments_lexer": "ipython3",
   "version": "3.9.5"
  }
 },
 "nbformat": 4,
 "nbformat_minor": 5
}
